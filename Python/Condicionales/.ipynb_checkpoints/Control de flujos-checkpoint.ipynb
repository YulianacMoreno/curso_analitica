{
 "cells": [
  {
   "cell_type": "code",
   "execution_count": 5,
   "metadata": {},
   "outputs": [
    {
     "name": "stdout",
     "output_type": "stream",
     "text": [
      "es menor de edad\n"
     ]
    }
   ],
   "source": [
    "edadAlumno = 15\n",
    "if edadAlumno >= 18:\n",
    "    print(\"es mayor de edad\")\n",
    "else:\n",
    "    print(\"es menor de edad\")\n",
    "                   \n",
    "     "
   ]
  },
  {
   "cell_type": "code",
   "execution_count": 7,
   "metadata": {},
   "outputs": [
    {
     "name": "stdout",
     "output_type": "stream",
     "text": [
      "es mayor de edad y es mujer y su edad es:18\n"
     ]
    }
   ],
   "source": [
    "generoAlumno = \"f\"\n",
    "edadAlumno = 18\n",
    "municipio = \"medellin\"\n",
    "if edadAlumno >= 15 or generoAlumno == \"f\":\n",
    "    print(\"es mayor de edad y es mujer y su edad es:\" + str(edadAlumno))\n",
    "else:\n",
    "    Print(\"es menor de edad\")"
   ]
  },
  {
   "cell_type": "code",
   "execution_count": 18,
   "metadata": {},
   "outputs": [
    {
     "name": "stdout",
     "output_type": "stream",
     "text": [
      "es mayor de edad y vive en medellin y su genero es:masculino\n"
     ]
    }
   ],
   "source": [
    "generoAlumno =\"masculino\"\n",
    "if edadAlumno >=18 and municipio == \"medellin\":\n",
    "    print(\"es mayor de edad y vive en medellin\"+ \" y su genero es:\" + (generoAlumno))"
   ]
  },
  {
   "cell_type": "markdown",
   "metadata": {},
   "source": [
    " contador while"
   ]
  },
  {
   "cell_type": "code",
   "execution_count": 21,
   "metadata": {
    "collapsed": true
   },
   "outputs": [],
   "source": [
    "\n",
    "while contador <=10:\n",
    "    print(contador)\n",
    "    contador += 1\n",
    "    "
   ]
  },
  {
   "cell_type": "code",
   "execution_count": 32,
   "metadata": {},
   "outputs": [
    {
     "name": "stdout",
     "output_type": "stream",
     "text": [
      "1\n",
      "2\n",
      "3\n",
      "4\n",
      "5\n",
      "6\n",
      "7\n",
      "8\n",
      "9\n",
      "10\n",
      "11\n"
     ]
    }
   ],
   "source": [
    "listaNumeros = [1,2,3,4,5,6,7,8,9,10,11]\n",
    "for numero in listaNumeros:\n",
    "    print (numero)"
   ]
  },
  {
   "cell_type": "code",
   "execution_count": 29,
   "metadata": {},
   "outputs": [
    {
     "name": "stdout",
     "output_type": "stream",
     "text": [
      "el numero es par y es el: 2\n",
      "el numero es impar y es el:  3\n",
      "el numero es par y es el: 4\n",
      "el numero tiene quinta y es el:5\n",
      "el numero es par y es el: 6\n",
      "el numero es impar y es el:  6\n"
     ]
    }
   ],
   "source": [
    "for numero in listaNumeros:\n",
    "    if numero % 2 ==0:\n",
    "        print(\"el numero es par y es el: \" + str(numero))\n",
    "    if numero % 3 ==0:\n",
    "        print(\"el numero es impar y es el: \" ,numero)\n",
    "    if numero % 5 ==0:\n",
    "        print(\"el numero tiene quinta y es el:\" + str(numero))"
   ]
  },
  {
   "cell_type": "markdown",
   "metadata": {},
   "source": [
    " # CONTINUE\n",
    " \n",
    "    if numero % 3 ==0:\n",
    "        continue\n",
    "    else:\n",
    "            print(numero)"
   ]
  },
  {
   "cell_type": "code",
   "execution_count": 43,
   "metadata": {},
   "outputs": [
    {
     "name": "stdout",
     "output_type": "stream",
     "text": [
      "11\n"
     ]
    }
   ],
   "source": [
    "for numero in listaNumeros:\n",
    "    if numero % 3 ==0:\n",
    "        continue\n",
    "else :\n",
    "    print(numero)"
   ]
  },
  {
   "cell_type": "code",
   "execution_count": null,
   "metadata": {
    "collapsed": true
   },
   "outputs": [],
   "source": []
  }
 ],
 "metadata": {
  "kernelspec": {
   "display_name": "Python 3",
   "language": "python",
   "name": "python3"
  },
  "language_info": {
   "codemirror_mode": {
    "name": "ipython",
    "version": 3
   },
   "file_extension": ".py",
   "mimetype": "text/x-python",
   "name": "python",
   "nbconvert_exporter": "python",
   "pygments_lexer": "ipython3",
   "version": "3.6.1"
  }
 },
 "nbformat": 4,
 "nbformat_minor": 2
}
